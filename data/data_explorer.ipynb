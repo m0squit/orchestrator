{
 "cells": [
  {
   "cell_type": "code",
   "execution_count": 20,
   "metadata": {},
   "outputs": [],
   "source": [
    "import pathlib\n",
    "import numpy as np\n",
    "import pandas as pd\n"
   ]
  },
  {
   "cell_type": "code",
   "execution_count": 21,
   "metadata": {},
   "outputs": [],
   "source": [
    "pd.set_option('display.max_rows', 500)"
   ]
  },
  {
   "cell_type": "code",
   "execution_count": 22,
   "metadata": {},
   "outputs": [],
   "source": [
    "field_names = [\n",
    "    'Валынтойское',\n",
    "    'Вынгаяхинское',\n",
    "    'Крайнее',\n",
    "    'Отдельное',\n",
    "    'Романовское',\n",
    "    'Холмогорское',\n",
    "]\n",
    "tables = [\n",
    "    'fond',\n",
    "    'frac',\n",
    "    'gdis',\n",
    "    'merop',\n",
    "    'mersum',\n",
    "    'sh',\n",
    "    'sh_sost_fond',\n",
    "    'sost',\n",
    "    'sppl',\n",
    "    'troil',\n",
    "    'welllist',\n",
    "    'wellplast',\n",
    "]\n",
    "path = pathlib.Path.cwd()\n"
   ]
  },
  {
   "cell_type": "code",
   "execution_count": 23,
   "metadata": {},
   "outputs": [],
   "source": [
    "data = {}\n",
    "for field_name in field_names:\n",
    "    data[field_name] = {}\n",
    "    for table in tables:\n",
    "        if table == 'gdis':\n",
    "            df = df = pd.read_excel(path / field_name / 'gdis.xlsm')\n",
    "        else:\n",
    "            df = pd.read_feather(path / field_name / f'{table}.feather')\n",
    "        data[field_name][table] = df\n",
    "        \n",
    "#         if table == 'welllist':\n",
    "#             print(field_name, df.loc[df['ois'] != 0]['ceh'].unique())\n"
   ]
  },
  {
   "cell_type": "code",
   "execution_count": 24,
   "metadata": {},
   "outputs": [
    {
     "name": "stdout",
     "output_type": "stream",
     "text": [
      "Валынтойское float64\n",
      "\n",
      "[ nan 704.]\n",
      "\n",
      "Вынгаяхинское float64\n",
      "\n",
      "[ nan 349. 152. 233. 750. 797. 540. 675. 560. 200. 561. 740. 284. 638.\n",
      " 290. 660. 178. 640. 260. 352.  63. 168. 156. 293. 644. 556. 587. 664.\n",
      " 882. 160.  84. 298. 527. 709. 412. 174. 259.]\n",
      "\n",
      "Крайнее float64\n",
      "\n",
      "[ nan 200. 202. 213. 100. 323. 313. 226. 456. 590. 624. 560. 500. 497.\n",
      " 477. 287. 583. 212. 270. 558. 487. 585.]\n",
      "\n",
      "Отдельное float64\n",
      "\n",
      "[  nan 1310.  875.  594.  320. 1140.]\n",
      "\n",
      "Романовское float64\n",
      "\n",
      "[ nan 661. 260. 653. 170. 300. 650. 186. 400. 500. 671. 480. 275. 600.\n",
      " 507. 312.]\n",
      "\n",
      "Холмогорское float64\n",
      "\n",
      "[ nan 550. 244. 199. 290. 130. 150. 154. 285.]\n",
      "\n"
     ]
    }
   ],
   "source": [
    "for field_name in field_names:\n",
    "    s = data[field_name]['gdis']['Lэфф,м']\n",
    "    print(field_name, s.dtypes)\n",
    "    print()\n",
    "    print(s.unique())\n",
    "    print()\n"
   ]
  },
  {
   "cell_type": "code",
   "execution_count": 19,
   "metadata": {},
   "outputs": [
    {
     "data": {
      "text/html": [
       "<div>\n",
       "<style scoped>\n",
       "    .dataframe tbody tr th:only-of-type {\n",
       "        vertical-align: middle;\n",
       "    }\n",
       "\n",
       "    .dataframe tbody tr th {\n",
       "        vertical-align: top;\n",
       "    }\n",
       "\n",
       "    .dataframe thead th {\n",
       "        text-align: right;\n",
       "    }\n",
       "</style>\n",
       "<table border=\"1\" class=\"dataframe\">\n",
       "  <thead>\n",
       "    <tr style=\"text-align: right;\">\n",
       "      <th></th>\n",
       "      <th>Скважина</th>\n",
       "      <th>Lэфф,м</th>\n",
       "    </tr>\n",
       "  </thead>\n",
       "  <tbody>\n",
       "    <tr>\n",
       "      <th>754</th>\n",
       "      <td>286_407G</td>\n",
       "      <td>~200</td>\n",
       "    </tr>\n",
       "    <tr>\n",
       "      <th>1334</th>\n",
       "      <td>286_998G2</td>\n",
       "      <td>215 - 246</td>\n",
       "    </tr>\n",
       "  </tbody>\n",
       "</table>\n",
       "</div>"
      ],
      "text/plain": [
       "       Скважина     Lэфф,м\n",
       "754    286_407G       ~200\n",
       "1334  286_998G2  215 - 246"
      ]
     },
     "execution_count": 19,
     "metadata": {},
     "output_type": "execute_result"
    }
   ],
   "source": [
    "df = data['Вынгаяхинское']['gdis']\n",
    "wrong_values = [\n",
    "    '~200',\n",
    "    '215 - 246',\n",
    "]\n",
    "df.loc[df['Lэфф,м'].isin(wrong_values), ['Скважина', 'Lэфф,м']]\n"
   ]
  },
  {
   "cell_type": "code",
   "execution_count": null,
   "metadata": {},
   "outputs": [],
   "source": [
    "data['Крайнее']['welllist']"
   ]
  },
  {
   "cell_type": "code",
   "execution_count": null,
   "metadata": {},
   "outputs": [],
   "source": [
    "data['Крайнее']['wellplast']"
   ]
  },
  {
   "cell_type": "code",
   "execution_count": null,
   "metadata": {},
   "outputs": [],
   "source": [
    "data['Крайнее']['sppl']"
   ]
  },
  {
   "cell_type": "code",
   "execution_count": null,
   "metadata": {},
   "outputs": [],
   "source": [
    "dfs = []\n",
    "for field_name in field_names:\n",
    "    df_field = data[field_name]['sppl']\n",
    "    df_field['field_name'] = field_name\n",
    "    dfs.append(df_field)\n",
    "df_sppl = pd.concat(dfs)\n",
    "df_sppl.replace(0, np.nan, inplace=True)\n",
    "df_sppl\n"
   ]
  },
  {
   "cell_type": "code",
   "execution_count": null,
   "metadata": {},
   "outputs": [],
   "source": [
    "params = [\n",
    "    'pm',\n",
    "    'nb',\n",
    "    'sp',\n",
    "    'sn',\n",
    "    'sw',\n",
    "    'hs'\n",
    "]\n",
    "df_sppl[params].median()\n"
   ]
  },
  {
   "cell_type": "code",
   "execution_count": null,
   "metadata": {},
   "outputs": [],
   "source": [
    "dfs = []\n",
    "for field_name in field_names:\n",
    "    df_field = data[field_name]['troil']\n",
    "    df_field['field_name'] = field_name\n",
    "    dfs.append(df_field)\n",
    "df_troil = pd.concat(dfs, ignore_index=True)\n",
    "\n",
    "df_troil = df_troil.loc[df_troil['well.ois'] != 0]\n",
    "df_troil.replace(0, np.nan, inplace=True)\n",
    "df_troil.sort_values(by=['well.ois', 'dt'], inplace=True)\n",
    "\n",
    "df_troil\n"
   ]
  },
  {
   "cell_type": "code",
   "execution_count": null,
   "metadata": {},
   "outputs": [],
   "source": [
    "df_troil.count()"
   ]
  },
  {
   "cell_type": "code",
   "execution_count": null,
   "metadata": {},
   "outputs": [],
   "source": [
    "df_troil['grpdate'].dtype"
   ]
  },
  {
   "cell_type": "code",
   "execution_count": null,
   "metadata": {},
   "outputs": [],
   "source": [
    "df_troil.loc[df_troil['skvtype'] == '']"
   ]
  },
  {
   "cell_type": "code",
   "execution_count": null,
   "metadata": {},
   "outputs": [],
   "source": [
    "df_troil.loc[df_troil['well.ois'] == 2560617200]"
   ]
  },
  {
   "cell_type": "code",
   "execution_count": null,
   "metadata": {},
   "outputs": [],
   "source": [
    "df_troil.loc[df_troil['well.ois'] == 2560617200, 'skvtype'].value_counts().idxmax()"
   ]
  },
  {
   "cell_type": "code",
   "execution_count": null,
   "metadata": {},
   "outputs": [],
   "source": [
    "params = [\n",
    "    'mu_liq',\n",
    "    'ob_kt',\n",
    "    'oilsaturatedthickness',\n",
    "]\n",
    "df_troil[params].median()\n"
   ]
  },
  {
   "cell_type": "code",
   "execution_count": null,
   "metadata": {},
   "outputs": [],
   "source": [
    "df_merop = data['Крайнее']['merop']\n",
    "df_merop.loc[df_merop['well.ois'] == 2560617200]\n"
   ]
  },
  {
   "cell_type": "code",
   "execution_count": null,
   "metadata": {},
   "outputs": [],
   "source": [
    "data['Крайнее']['sh_sost_fond']"
   ]
  },
  {
   "cell_type": "code",
   "execution_count": null,
   "metadata": {},
   "outputs": [],
   "source": [
    "data['Крайнее']['sh_sost_fond'].dtypes"
   ]
  },
  {
   "cell_type": "code",
   "execution_count": null,
   "metadata": {},
   "outputs": [],
   "source": [
    "df_sh_sost_fond = data['Крайнее']['sh_sost_fond']\n",
    "df_sh_sost_fond_well = df_sh_sost_fond.loc[df_sh_sost_fond['well.ois'] == 2560002200]\n",
    "df_sh_sost_fond_well.set_index(keys=['dt'], inplace=True)\n",
    "type(df_sh_sost_fond_well.index[0])\n"
   ]
  },
  {
   "cell_type": "code",
   "execution_count": null,
   "metadata": {},
   "outputs": [],
   "source": [
    "data['Холмогорское']['sh'].sort_values(by='well.ois')"
   ]
  },
  {
   "cell_type": "code",
   "execution_count": null,
   "metadata": {},
   "outputs": [],
   "source": [
    "data['Крайнее']['mersum']"
   ]
  },
  {
   "cell_type": "code",
   "execution_count": null,
   "metadata": {},
   "outputs": [],
   "source": []
  }
 ],
 "metadata": {
  "kernelspec": {
   "display_name": "Python 3",
   "language": "python",
   "name": "python3"
  },
  "language_info": {
   "codemirror_mode": {
    "name": "ipython",
    "version": 3
   },
   "file_extension": ".py",
   "mimetype": "text/x-python",
   "name": "python",
   "nbconvert_exporter": "python",
   "pygments_lexer": "ipython3",
   "version": "3.8.5"
  }
 },
 "nbformat": 4,
 "nbformat_minor": 4
}
