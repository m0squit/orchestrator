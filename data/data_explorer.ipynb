{
 "cells": [
  {
   "cell_type": "code",
   "execution_count": 2,
   "metadata": {},
   "outputs": [],
   "source": [
    "import pathlib\n",
    "import numpy as np\n",
    "import pandas as pd\n"
   ]
  },
  {
   "cell_type": "code",
   "execution_count": 3,
   "metadata": {},
   "outputs": [],
   "source": [
    "pd.set_option('display.max_rows', 500)"
   ]
  },
  {
   "cell_type": "code",
   "execution_count": 4,
   "metadata": {},
   "outputs": [],
   "source": [
    "field_names = [\n",
    "    'Валынтойское',\n",
    "    'Вынгаяхинское',\n",
    "    'Крайнее',\n",
    "    'Отдельное',\n",
    "    'Романовское',\n",
    "    'Холмогорское',\n",
    "]\n",
    "tables = [\n",
    "    'fond',\n",
    "    'frac',\n",
    "    'gdis',\n",
    "    'merop',\n",
    "    'mersum',\n",
    "    'sh',\n",
    "    'sh_sost_fond',\n",
    "    'sost',\n",
    "    'sppl',\n",
    "    'troil',\n",
    "    'welllist',\n",
    "    'wellplast',\n",
    "]\n",
    "path = pathlib.Path.cwd()\n"
   ]
  },
  {
   "cell_type": "code",
   "execution_count": 5,
   "metadata": {},
   "outputs": [],
   "source": [
    "data = {}\n",
    "for field_name in field_names:\n",
    "    data[field_name] = {}\n",
    "    for table in tables:\n",
    "        if table == 'gdis':\n",
    "            df = df = pd.read_excel(path / field_name / 'gdis.xlsm')\n",
    "        else:\n",
    "            df = pd.read_feather(path / field_name / f'{table}.feather')\n",
    "        data[field_name][table] = df\n",
    "        \n",
    "#         if table == 'welllist':\n",
    "#             print(field_name, df.loc[df['ois'] != 0]['ceh'].unique())\n"
   ]
  },
  {
   "cell_type": "code",
   "execution_count": 6,
   "metadata": {},
   "outputs": [
    {
     "data": {
      "text/html": [
       "<div>\n",
       "<style scoped>\n",
       "    .dataframe tbody tr th:only-of-type {\n",
       "        vertical-align: middle;\n",
       "    }\n",
       "\n",
       "    .dataframe tbody tr th {\n",
       "        vertical-align: top;\n",
       "    }\n",
       "\n",
       "    .dataframe thead th {\n",
       "        text-align: right;\n",
       "    }\n",
       "</style>\n",
       "<table border=\"1\" class=\"dataframe\">\n",
       "  <thead>\n",
       "    <tr style=\"text-align: right;\">\n",
       "      <th></th>\n",
       "      <th>ois</th>\n",
       "      <th>well</th>\n",
       "      <th>num</th>\n",
       "      <th>npath</th>\n",
       "      <th>dtstart</th>\n",
       "      <th>dtend</th>\n",
       "      <th>ceh</th>\n",
       "      <th>kust</th>\n",
       "      <th>alt</th>\n",
       "      <th>x</th>\n",
       "      <th>y</th>\n",
       "    </tr>\n",
       "  </thead>\n",
       "  <tbody>\n",
       "    <tr>\n",
       "      <th>0</th>\n",
       "      <td>0</td>\n",
       "      <td>256_68R</td>\n",
       "      <td>68P</td>\n",
       "      <td>0</td>\n",
       "      <td>1899-12-30</td>\n",
       "      <td>2100-01-01</td>\n",
       "      <td>Филиал \"Муравленковскнефть\"</td>\n",
       "      <td></td>\n",
       "      <td>114.83</td>\n",
       "      <td>460296.0900</td>\n",
       "      <td>7.072937e+06</td>\n",
       "    </tr>\n",
       "    <tr>\n",
       "      <th>1</th>\n",
       "      <td>0</td>\n",
       "      <td>256_6815PL</td>\n",
       "      <td>6815PL</td>\n",
       "      <td>0</td>\n",
       "      <td>1899-12-30</td>\n",
       "      <td>2100-01-01</td>\n",
       "      <td>АО \"Газпромнефть-Ноябрьскнефтега</td>\n",
       "      <td>108</td>\n",
       "      <td>96.24</td>\n",
       "      <td>471768.6171</td>\n",
       "      <td>7.046201e+06</td>\n",
       "    </tr>\n",
       "    <tr>\n",
       "      <th>2</th>\n",
       "      <td>0</td>\n",
       "      <td>256_6815G</td>\n",
       "      <td>6815Г</td>\n",
       "      <td>0</td>\n",
       "      <td>1899-12-30</td>\n",
       "      <td>2100-01-01</td>\n",
       "      <td>АО \"Газпромнефть-Ноябрьскнефтега</td>\n",
       "      <td>108</td>\n",
       "      <td>96.24</td>\n",
       "      <td>471768.6171</td>\n",
       "      <td>7.046201e+06</td>\n",
       "    </tr>\n",
       "    <tr>\n",
       "      <th>3</th>\n",
       "      <td>0</td>\n",
       "      <td>256_4163G</td>\n",
       "      <td>4163_Г</td>\n",
       "      <td>0</td>\n",
       "      <td>1899-12-30</td>\n",
       "      <td>2100-01-01</td>\n",
       "      <td>ЦДНГ-4</td>\n",
       "      <td>51Б</td>\n",
       "      <td>112.41</td>\n",
       "      <td>465770.1974</td>\n",
       "      <td>7.059177e+06</td>\n",
       "    </tr>\n",
       "    <tr>\n",
       "      <th>4</th>\n",
       "      <td>0</td>\n",
       "      <td>256_5338PL</td>\n",
       "      <td>5338PL</td>\n",
       "      <td>0</td>\n",
       "      <td>1899-12-30</td>\n",
       "      <td>2100-01-01</td>\n",
       "      <td>ЦДНГ-4</td>\n",
       "      <td>24</td>\n",
       "      <td>106.23</td>\n",
       "      <td>470778.8730</td>\n",
       "      <td>7.052260e+06</td>\n",
       "    </tr>\n",
       "    <tr>\n",
       "      <th>...</th>\n",
       "      <td>...</td>\n",
       "      <td>...</td>\n",
       "      <td>...</td>\n",
       "      <td>...</td>\n",
       "      <td>...</td>\n",
       "      <td>...</td>\n",
       "      <td>...</td>\n",
       "      <td>...</td>\n",
       "      <td>...</td>\n",
       "      <td>...</td>\n",
       "      <td>...</td>\n",
       "    </tr>\n",
       "    <tr>\n",
       "      <th>1007</th>\n",
       "      <td>2560950100</td>\n",
       "      <td>256_9501</td>\n",
       "      <td>9501</td>\n",
       "      <td>0</td>\n",
       "      <td>2020-11-09</td>\n",
       "      <td>2100-01-01</td>\n",
       "      <td>ЦДНГ-2</td>\n",
       "      <td>199</td>\n",
       "      <td>107.40</td>\n",
       "      <td>474108.8206</td>\n",
       "      <td>7.052232e+06</td>\n",
       "    </tr>\n",
       "    <tr>\n",
       "      <th>1008</th>\n",
       "      <td>2560950200</td>\n",
       "      <td>256_9502G</td>\n",
       "      <td>9502</td>\n",
       "      <td>0</td>\n",
       "      <td>2020-12-08</td>\n",
       "      <td>2100-01-01</td>\n",
       "      <td>ЦДНГ-2</td>\n",
       "      <td>199</td>\n",
       "      <td>107.26</td>\n",
       "      <td>474114.0485</td>\n",
       "      <td>7.052222e+06</td>\n",
       "    </tr>\n",
       "    <tr>\n",
       "      <th>1009</th>\n",
       "      <td>2560950300</td>\n",
       "      <td>256_9503</td>\n",
       "      <td>9503</td>\n",
       "      <td>0</td>\n",
       "      <td>2021-01-07</td>\n",
       "      <td>2100-01-01</td>\n",
       "      <td>ЦДНГ-2</td>\n",
       "      <td>199</td>\n",
       "      <td>107.19</td>\n",
       "      <td>474120.2160</td>\n",
       "      <td>7.052211e+06</td>\n",
       "    </tr>\n",
       "    <tr>\n",
       "      <th>1010</th>\n",
       "      <td>2560950400</td>\n",
       "      <td>256_9504G</td>\n",
       "      <td>9504</td>\n",
       "      <td>0</td>\n",
       "      <td>2021-02-15</td>\n",
       "      <td>2100-01-01</td>\n",
       "      <td>ЦДНГ-2</td>\n",
       "      <td>199</td>\n",
       "      <td>107.15</td>\n",
       "      <td>474127.3732</td>\n",
       "      <td>7.052195e+06</td>\n",
       "    </tr>\n",
       "    <tr>\n",
       "      <th>1011</th>\n",
       "      <td>2560950500</td>\n",
       "      <td>256_9505G</td>\n",
       "      <td>9505</td>\n",
       "      <td>0</td>\n",
       "      <td>2021-03-22</td>\n",
       "      <td>2100-01-01</td>\n",
       "      <td>ЦДНГ-2</td>\n",
       "      <td>199</td>\n",
       "      <td>107.19</td>\n",
       "      <td>474132.1413</td>\n",
       "      <td>7.052185e+06</td>\n",
       "    </tr>\n",
       "  </tbody>\n",
       "</table>\n",
       "<p>1012 rows × 11 columns</p>\n",
       "</div>"
      ],
      "text/plain": [
       "             ois        well     num  npath     dtstart       dtend  \\\n",
       "0              0     256_68R     68P      0  1899-12-30  2100-01-01   \n",
       "1              0  256_6815PL  6815PL      0  1899-12-30  2100-01-01   \n",
       "2              0   256_6815G   6815Г      0  1899-12-30  2100-01-01   \n",
       "3              0   256_4163G  4163_Г      0  1899-12-30  2100-01-01   \n",
       "4              0  256_5338PL  5338PL      0  1899-12-30  2100-01-01   \n",
       "...          ...         ...     ...    ...         ...         ...   \n",
       "1007  2560950100    256_9501    9501      0  2020-11-09  2100-01-01   \n",
       "1008  2560950200   256_9502G    9502      0  2020-12-08  2100-01-01   \n",
       "1009  2560950300    256_9503    9503      0  2021-01-07  2100-01-01   \n",
       "1010  2560950400   256_9504G    9504      0  2021-02-15  2100-01-01   \n",
       "1011  2560950500   256_9505G    9505      0  2021-03-22  2100-01-01   \n",
       "\n",
       "                                   ceh kust     alt            x             y  \n",
       "0          Филиал \"Муравленковскнефть\"       114.83  460296.0900  7.072937e+06  \n",
       "1     АО \"Газпромнефть-Ноябрьскнефтега  108   96.24  471768.6171  7.046201e+06  \n",
       "2     АО \"Газпромнефть-Ноябрьскнефтега  108   96.24  471768.6171  7.046201e+06  \n",
       "3                               ЦДНГ-4  51Б  112.41  465770.1974  7.059177e+06  \n",
       "4                               ЦДНГ-4   24  106.23  470778.8730  7.052260e+06  \n",
       "...                                ...  ...     ...          ...           ...  \n",
       "1007                            ЦДНГ-2  199  107.40  474108.8206  7.052232e+06  \n",
       "1008                            ЦДНГ-2  199  107.26  474114.0485  7.052222e+06  \n",
       "1009                            ЦДНГ-2  199  107.19  474120.2160  7.052211e+06  \n",
       "1010                            ЦДНГ-2  199  107.15  474127.3732  7.052195e+06  \n",
       "1011                            ЦДНГ-2  199  107.19  474132.1413  7.052185e+06  \n",
       "\n",
       "[1012 rows x 11 columns]"
      ]
     },
     "execution_count": 6,
     "metadata": {},
     "output_type": "execute_result"
    }
   ],
   "source": [
    "data['Крайнее']['welllist']"
   ]
  },
  {
   "cell_type": "code",
   "execution_count": null,
   "metadata": {},
   "outputs": [],
   "source": [
    "data['Крайнее']['wellplast']"
   ]
  },
  {
   "cell_type": "code",
   "execution_count": null,
   "metadata": {},
   "outputs": [],
   "source": [
    "data['Крайнее']['sppl']"
   ]
  },
  {
   "cell_type": "code",
   "execution_count": 24,
   "metadata": {},
   "outputs": [
    {
     "name": "stdout",
     "output_type": "stream",
     "text": [
      "Валынтойское\n",
      "Кпр, мД\n",
      "Квантиль 0.1: 0.198\n",
      "Медиана: 0.4\n",
      "Квантиль 0.9: 1.0920000000000014\n",
      "Xf\n",
      "Квантиль 0.1: 63.0\n",
      "Медиана: 75.0\n",
      "Квантиль 0.9: 87.0\n",
      "\n",
      "Вынгаяхинское\n",
      "Кпр, мД\n",
      "Квантиль 0.1: 0.4\n",
      "Медиана: 2.0\n",
      "Квантиль 0.9: 11.140000000000008\n",
      "Xf\n",
      "Квантиль 0.1: 35.06\n",
      "Медиана: 79.4\n",
      "Квантиль 0.9: 185.8\n",
      "\n",
      "Крайнее\n",
      "Кпр, мД\n",
      "Квантиль 0.1: 0.6\n",
      "Медиана: 3.0\n",
      "Квантиль 0.9: 13.2\n",
      "Xf\n",
      "Квантиль 0.1: 33.0\n",
      "Медиана: 60.0\n",
      "Квантиль 0.9: 126.0\n",
      "\n",
      "Отдельное\n",
      "Кпр, мД\n",
      "Квантиль 0.1: 0.56\n",
      "Медиана: 5.0\n",
      "Квантиль 0.9: 24.1\n",
      "Xf\n",
      "Квантиль 0.1: 41.8\n",
      "Медиана: 64.6\n",
      "Квантиль 0.9: 91.60000000000001\n",
      "\n",
      "Романовское\n",
      "Кпр, мД\n",
      "Квантиль 0.1: 0.7628000000000004\n",
      "Медиана: 3.2\n",
      "Квантиль 0.9: 14.380000000000006\n",
      "Xf\n",
      "Квантиль 0.1: 30.5\n",
      "Медиана: 73.85\n",
      "Квантиль 0.9: 160.0\n",
      "\n",
      "Холмогорское\n",
      "Кпр, мД\n",
      "Квантиль 0.1: 2.2\n",
      "Медиана: 6.8\n",
      "Квантиль 0.9: 22.0\n",
      "Xf\n",
      "Квантиль 0.1: 24.1\n",
      "Медиана: 77.65\n",
      "Квантиль 0.9: 158.40000000000003\n",
      "\n"
     ]
    }
   ],
   "source": [
    "def find_min_max(df, param_name):\n",
    "    print(param_name)\n",
    "    s = df[param_name]\n",
    "    print('Квантиль 0.1:', s.quantile(0.1))\n",
    "    print('Медиана:', s.median())\n",
    "    print('Квантиль 0.9:', s.quantile(0.9))\n",
    "\n",
    "for field_name in field_names:\n",
    "    print(field_name)\n",
    "    df = data[field_name]['gdis']\n",
    "    find_min_max(df, 'Кпр, мД')\n",
    "    find_min_max(df, 'Xf')\n",
    "    print()\n",
    "    "
   ]
  },
  {
   "cell_type": "code",
   "execution_count": null,
   "metadata": {},
   "outputs": [],
   "source": [
    "dfs = []\n",
    "for field_name in field_names:\n",
    "    df_field = data[field_name]['sppl']\n",
    "    df_field['field_name'] = field_name\n",
    "    dfs.append(df_field)\n",
    "df_sppl = pd.concat(dfs)\n",
    "df_sppl.replace(0, np.nan, inplace=True)\n",
    "df_sppl\n"
   ]
  },
  {
   "cell_type": "code",
   "execution_count": null,
   "metadata": {},
   "outputs": [],
   "source": [
    "params = [\n",
    "    'pm',\n",
    "    'nb',\n",
    "    'sp',\n",
    "    'sn',\n",
    "    'sw',\n",
    "    'hs'\n",
    "]\n",
    "df_sppl[params].median()\n"
   ]
  },
  {
   "cell_type": "code",
   "execution_count": null,
   "metadata": {},
   "outputs": [],
   "source": [
    "dfs = []\n",
    "for field_name in field_names:\n",
    "    df_field = data[field_name]['troil']\n",
    "    df_field['field_name'] = field_name\n",
    "    dfs.append(df_field)\n",
    "df_troil = pd.concat(dfs, ignore_index=True)\n",
    "\n",
    "df_troil = df_troil.loc[df_troil['well.ois'] != 0]\n",
    "df_troil.replace(0, np.nan, inplace=True)\n",
    "df_troil.sort_values(by=['well.ois', 'dt'], inplace=True)\n",
    "\n",
    "df_troil\n"
   ]
  },
  {
   "cell_type": "code",
   "execution_count": null,
   "metadata": {},
   "outputs": [],
   "source": [
    "df_troil.count()"
   ]
  },
  {
   "cell_type": "code",
   "execution_count": null,
   "metadata": {},
   "outputs": [],
   "source": [
    "df_troil['grpdate'].dtype"
   ]
  },
  {
   "cell_type": "code",
   "execution_count": null,
   "metadata": {},
   "outputs": [],
   "source": [
    "df_troil.loc[df_troil['skvtype'] == '']"
   ]
  },
  {
   "cell_type": "code",
   "execution_count": null,
   "metadata": {},
   "outputs": [],
   "source": [
    "df_troil.loc[df_troil['well.ois'] == 2560617200]"
   ]
  },
  {
   "cell_type": "code",
   "execution_count": null,
   "metadata": {},
   "outputs": [],
   "source": [
    "df_troil.loc[df_troil['well.ois'] == 2560617200, 'skvtype'].value_counts().idxmax()"
   ]
  },
  {
   "cell_type": "code",
   "execution_count": null,
   "metadata": {},
   "outputs": [],
   "source": [
    "params = [\n",
    "    'mu_liq',\n",
    "    'ob_kt',\n",
    "    'oilsaturatedthickness',\n",
    "]\n",
    "df_troil[params].median()\n"
   ]
  },
  {
   "cell_type": "code",
   "execution_count": null,
   "metadata": {},
   "outputs": [],
   "source": [
    "df_merop = data['Крайнее']['merop']\n",
    "df_merop.loc[df_merop['well.ois'] == 2560617200]\n"
   ]
  },
  {
   "cell_type": "code",
   "execution_count": null,
   "metadata": {},
   "outputs": [],
   "source": [
    "data['Крайнее']['sh_sost_fond']"
   ]
  },
  {
   "cell_type": "code",
   "execution_count": null,
   "metadata": {},
   "outputs": [],
   "source": [
    "data['Крайнее']['sh_sost_fond'].dtypes"
   ]
  },
  {
   "cell_type": "code",
   "execution_count": null,
   "metadata": {},
   "outputs": [],
   "source": [
    "df_sh_sost_fond = data['Крайнее']['sh_sost_fond']\n",
    "df_sh_sost_fond_well = df_sh_sost_fond.loc[df_sh_sost_fond['well.ois'] == 2560002200]\n",
    "df_sh_sost_fond_well.set_index(keys=['dt'], inplace=True)\n",
    "type(df_sh_sost_fond_well.index[0])\n"
   ]
  },
  {
   "cell_type": "code",
   "execution_count": null,
   "metadata": {},
   "outputs": [],
   "source": [
    "data['Холмогорское']['sh'].sort_values(by='well.ois')"
   ]
  },
  {
   "cell_type": "code",
   "execution_count": null,
   "metadata": {},
   "outputs": [],
   "source": [
    "data['Крайнее']['mersum']"
   ]
  },
  {
   "cell_type": "code",
   "execution_count": null,
   "metadata": {},
   "outputs": [],
   "source": []
  }
 ],
 "metadata": {
  "kernelspec": {
   "display_name": "Python 3",
   "language": "python",
   "name": "python3"
  },
  "language_info": {
   "codemirror_mode": {
    "name": "ipython",
    "version": 3
   },
   "file_extension": ".py",
   "mimetype": "text/x-python",
   "name": "python",
   "nbconvert_exporter": "python",
   "pygments_lexer": "ipython3",
   "version": "3.8.5"
  }
 },
 "nbformat": 4,
 "nbformat_minor": 4
}
