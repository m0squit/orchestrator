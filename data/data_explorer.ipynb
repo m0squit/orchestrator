{
 "cells": [
  {
   "cell_type": "code",
   "execution_count": null,
   "metadata": {},
   "outputs": [],
   "source": [
    "import pathlib\n",
    "import numpy as np\n",
    "import pandas as pd\n"
   ]
  },
  {
   "cell_type": "code",
   "execution_count": null,
   "metadata": {},
   "outputs": [],
   "source": [
    "pd.set_option('display.max_rows', 500)"
   ]
  },
  {
   "cell_type": "code",
   "execution_count": null,
   "metadata": {},
   "outputs": [],
   "source": [
    "field_names = [\n",
    "    'Валынтойское',\n",
    "    'Вынгаяхинское',\n",
    "    'Крайнее',\n",
    "    'Отдельное',\n",
    "    'Романовское',\n",
    "    'Холмогорское',\n",
    "]\n",
    "tables = [\n",
    "    'fond',\n",
    "    'frac',\n",
    "    'merop',\n",
    "    'mersum',\n",
    "    'sh',\n",
    "    'sh_sost_fond',\n",
    "    'sost',\n",
    "    'sppl',\n",
    "    'troil',\n",
    "    'welllist',\n",
    "    'wellplast',\n",
    "]\n",
    "path = pathlib.Path.cwd()\n"
   ]
  },
  {
   "cell_type": "code",
   "execution_count": null,
   "metadata": {},
   "outputs": [],
   "source": [
    "data = {}\n",
    "for field_name in field_names:\n",
    "    data[field_name] = {}\n",
    "    for table in tables:\n",
    "        df = pd.read_feather(path / field_name / '2018_1_2021_4' / f'{table}.feather')\n",
    "        data[field_name][table] = df\n",
    "        \n",
    "#         if table == 'welllist':\n",
    "#             print(field_name, df.loc[df['ois'] != 0]['ceh'].unique())\n"
   ]
  },
  {
   "cell_type": "code",
   "execution_count": null,
   "metadata": {},
   "outputs": [],
   "source": [
    "data['Крайнее']['welllist']"
   ]
  },
  {
   "cell_type": "code",
   "execution_count": null,
   "metadata": {},
   "outputs": [],
   "source": [
    "data['Крайнее']['wellplast']"
   ]
  },
  {
   "cell_type": "code",
   "execution_count": null,
   "metadata": {},
   "outputs": [],
   "source": [
    "dfs = []\n",
    "for field_name in field_names:\n",
    "    df_field = data[field_name]['sppl']\n",
    "    df_field['field_name'] = field_name\n",
    "    dfs.append(df_field)\n",
    "df_sppl = pd.concat(dfs)\n",
    "df_sppl.replace(0, np.nan, inplace=True)\n",
    "df_sppl\n"
   ]
  },
  {
   "cell_type": "code",
   "execution_count": null,
   "metadata": {},
   "outputs": [],
   "source": [
    "params = [\n",
    "    'pm',\n",
    "    'nb',\n",
    "    'sp',\n",
    "    'sn',\n",
    "    'sw',\n",
    "    'hs'\n",
    "]\n",
    "df_sppl[params].median()\n"
   ]
  },
  {
   "cell_type": "code",
   "execution_count": null,
   "metadata": {},
   "outputs": [],
   "source": [
    "dfs = []\n",
    "for field_name in field_names:\n",
    "    df_field = data[field_name]['troil']\n",
    "    df_field['field_name'] = field_name\n",
    "    dfs.append(df_field)\n",
    "df_troil = pd.concat(dfs, ignore_index=True)\n",
    "\n",
    "df_troil = df_troil.loc[df_troil['well.ois'] != 0]\n",
    "df_troil.replace(0, np.nan, inplace=True)\n",
    "df_troil.sort_values(by=['well.ois', 'dt'], inplace=True)\n",
    "\n",
    "df_troil\n"
   ]
  },
  {
   "cell_type": "code",
   "execution_count": null,
   "metadata": {},
   "outputs": [],
   "source": [
    "df_troil.count()"
   ]
  },
  {
   "cell_type": "code",
   "execution_count": null,
   "metadata": {},
   "outputs": [],
   "source": [
    "df_troil['grpdate'].dtype"
   ]
  },
  {
   "cell_type": "code",
   "execution_count": null,
   "metadata": {},
   "outputs": [],
   "source": [
    "df_troil.loc[df_troil['skvtype'] == '']"
   ]
  },
  {
   "cell_type": "code",
   "execution_count": null,
   "metadata": {},
   "outputs": [],
   "source": [
    "df_troil.loc[df_troil['well.ois'] == 2560617200]"
   ]
  },
  {
   "cell_type": "code",
   "execution_count": null,
   "metadata": {},
   "outputs": [],
   "source": [
    "df_troil.loc[df_troil['well.ois'] == 2560617200, 'skvtype'].value_counts().idxmax()"
   ]
  },
  {
   "cell_type": "code",
   "execution_count": null,
   "metadata": {},
   "outputs": [],
   "source": [
    "params = [\n",
    "    'mu_liq',\n",
    "    'ob_kt',\n",
    "    'oilsaturatedthickness',\n",
    "]\n",
    "df_troil[params].median()\n"
   ]
  },
  {
   "cell_type": "code",
   "execution_count": null,
   "metadata": {},
   "outputs": [],
   "source": [
    "df_merop = data['Крайнее']['merop']\n",
    "df_merop.loc[df_merop['well.ois'] == 2560617200]\n"
   ]
  },
  {
   "cell_type": "code",
   "execution_count": null,
   "metadata": {},
   "outputs": [],
   "source": [
    "data['Крайнее']['sh_sost_fond']"
   ]
  },
  {
   "cell_type": "code",
   "execution_count": null,
   "metadata": {},
   "outputs": [],
   "source": [
    "data['Крайнее']['sh_sost_fond'].dtypes"
   ]
  },
  {
   "cell_type": "code",
   "execution_count": null,
   "metadata": {},
   "outputs": [],
   "source": [
    "df_sh_sost_fond = data['Крайнее']['sh_sost_fond']\n",
    "df_sh_sost_fond_well = df_sh_sost_fond.loc[df_sh_sost_fond['well.ois'] == 2560002200]\n",
    "df_sh_sost_fond_well.set_index(keys=['dt'], inplace=True)\n",
    "type(df_sh_sost_fond_well.index[0])\n"
   ]
  },
  {
   "cell_type": "code",
   "execution_count": null,
   "metadata": {},
   "outputs": [],
   "source": [
    "data['Холмогорское']['sh'].sort_values(by='well.ois')"
   ]
  },
  {
   "cell_type": "code",
   "execution_count": null,
   "metadata": {},
   "outputs": [],
   "source": [
    "data['Крайнее']['mersum']"
   ]
  },
  {
   "cell_type": "code",
   "execution_count": null,
   "metadata": {},
   "outputs": [],
   "source": []
  }
 ],
 "metadata": {
  "kernelspec": {
   "display_name": "Python 3",
   "language": "python",
   "name": "python3"
  },
  "language_info": {
   "codemirror_mode": {
    "name": "ipython",
    "version": 3
   },
   "file_extension": ".py",
   "mimetype": "text/x-python",
   "name": "python",
   "nbconvert_exporter": "python",
   "pygments_lexer": "ipython3",
   "version": "3.8.5"
  }
 },
 "nbformat": 4,
 "nbformat_minor": 4
}
